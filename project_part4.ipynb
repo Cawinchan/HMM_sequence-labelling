{
 "cells": [
  {
   "cell_type": "code",
   "execution_count": 1,
   "metadata": {},
   "outputs": [
    {
     "name": "stderr",
     "output_type": "stream",
     "text": [
      "Warning : `load_model` does not return WordVectorModel or SupervisedModel any more, but a `FastText` object which is very similar.\n"
     ]
    }
   ],
   "source": [
    "import numpy as np\n",
    "from torchtext.vocab import vocab\n",
    "from sklearn.preprocessing import LabelBinarizer\n",
    "from collections import OrderedDict\n",
    "import torchtext\n",
    "import fasttext\n",
    "from torchtext.vocab import vocab\n",
    "\n",
    "train_dir = \"data/ES/train\"\n",
    "test_dir = \"data/ES/dev.out\"\n",
    "word_lst = []\n",
    "# insert special tokens if no word exists\n",
    "word_lst.append(\"<PAD>\")\n",
    "word_lst.append(\"<UNK>\")\n",
    "\n",
    "label_lst = []\n",
    "\n",
    "def get_vecs_by_tokens(model, word_lst):\n",
    "    temp_lst = []\n",
    "    for word in word_lst:\n",
    "        temp_lst.append(model[word]) # numpy vector from vocab or out-of-vocab vector:\n",
    "    return temp_lst\n",
    "\n",
    "model = fasttext.load_model('embeddings-s-model.bin')\n",
    "# Get pre-trained model vector\n",
    "# vec = torchtext.vocab.FastText(language='es')"
   ]
  },
  {
   "cell_type": "code",
   "execution_count": null,
   "metadata": {},
   "outputs": [],
   "source": [
    "def simple_bidirectional_lstm(n_timesteps, word_length):\n",
    "    model = Sequential()\n",
    "    model.add(Bidirectional(LSTM(20), input_shape=(n_timesteps, word_length)))\n",
    "    model.add(RepeatVector(7))\n",
    "    model.add(TimeDistributed(Dense(word_length, activation='sigmoid')))\n",
    "    model.compile(loss='binary_crossentropy', optimizer='adam')\n",
    "    return model"
   ]
  },
  {
   "cell_type": "code",
   "execution_count": 8,
   "metadata": {},
   "outputs": [
    {
     "name": "stdout",
     "output_type": "stream",
     "text": [
      "(238618, 30) (238616, 7)\n",
      "[ 5.47550440e-01  2.28944011e-02  1.55435711e-01  4.20783268e-04\n",
      " -2.55561769e-01  4.13130909e-01  2.02900469e-01 -2.72257626e-01\n",
      " -3.21533173e-01 -8.35042521e-02 -4.10934150e-01 -6.79786026e-01\n",
      "  4.35542256e-01 -3.11165899e-01  1.50862530e-01  2.67225623e-01\n",
      "  2.15389565e-01 -1.06942698e-01  2.96125263e-01 -1.84056312e-01\n",
      "  5.02831638e-01  6.75193012e-01  2.79197574e-01 -2.80113786e-01\n",
      "  1.07360706e-01 -2.84230471e-01 -2.29737591e-02  2.73883611e-01\n",
      " -6.18105590e-01 -2.19672799e-01] [0 0 0 0 0 0 1]\n",
      "(1, 4, 1789635) (1, 4, 7, 59654)\n"
     ]
    },
    {
     "ename": "NameError",
     "evalue": "name 'simple_bidirectional_lstm' is not defined",
     "output_type": "error",
     "traceback": [
      "\u001b[0;31m---------------------------------------------------------------------------\u001b[0m",
      "\u001b[0;31mNameError\u001b[0m                                 Traceback (most recent call last)",
      "\u001b[0;32m<ipython-input-8-e44a646e859c>\u001b[0m in \u001b[0;36m<module>\u001b[0;34m\u001b[0m\n\u001b[1;32m     19\u001b[0m \u001b[0mprint\u001b[0m\u001b[0;34m(\u001b[0m\u001b[0mX\u001b[0m\u001b[0;34m.\u001b[0m\u001b[0mshape\u001b[0m\u001b[0;34m,\u001b[0m\u001b[0my\u001b[0m\u001b[0;34m.\u001b[0m\u001b[0mshape\u001b[0m\u001b[0;34m)\u001b[0m\u001b[0;34m\u001b[0m\u001b[0;34m\u001b[0m\u001b[0m\n\u001b[1;32m     20\u001b[0m \u001b[0;34m\u001b[0m\u001b[0m\n\u001b[0;32m---> 21\u001b[0;31m \u001b[0mbilstm\u001b[0m \u001b[0;34m=\u001b[0m \u001b[0msimple_bidirectional_lstm\u001b[0m\u001b[0;34m(\u001b[0m\u001b[0mn_timesteps\u001b[0m\u001b[0;34m,\u001b[0m\u001b[0mX\u001b[0m\u001b[0;34m.\u001b[0m\u001b[0mshape\u001b[0m\u001b[0;34m[\u001b[0m\u001b[0;34m-\u001b[0m\u001b[0;36m1\u001b[0m\u001b[0;34m]\u001b[0m\u001b[0;34m)\u001b[0m\u001b[0;34m\u001b[0m\u001b[0;34m\u001b[0m\u001b[0m\n\u001b[0m\u001b[1;32m     22\u001b[0m \u001b[0mbilstm\u001b[0m\u001b[0;34m.\u001b[0m\u001b[0mfit\u001b[0m\u001b[0;34m(\u001b[0m\u001b[0mX\u001b[0m\u001b[0;34m,\u001b[0m\u001b[0my\u001b[0m\u001b[0;34m,\u001b[0m \u001b[0mbatch_size\u001b[0m\u001b[0;34m=\u001b[0m\u001b[0;36m1\u001b[0m\u001b[0;34m)\u001b[0m\u001b[0;34m\u001b[0m\u001b[0;34m\u001b[0m\u001b[0m\n\u001b[1;32m     23\u001b[0m \u001b[0;34m\u001b[0m\u001b[0m\n",
      "\u001b[0;31mNameError\u001b[0m: name 'simple_bidirectional_lstm' is not defined"
     ]
    }
   ],
   "source": [
    "with open(train_dir, \"r\", encoding=\"utf8\") as f:\n",
    "    for line in f:\n",
    "        # Parse each line\n",
    "        if len(line.split(\" \")) == 2:\n",
    "            word, label = line.replace(\"\\n\",\"\").split(\" \")\n",
    "            word_lst.append(word)   \n",
    "            label_lst.append(label)\n",
    "word_emb = get_vecs_by_tokens(model, word_lst)\n",
    "word_arr = np.array(word_emb)\n",
    "label_arr = np.array(label_lst)\n",
    "lb = LabelBinarizer()\n",
    "label_arr = lb.fit_transform(label_arr)\n",
    "print(word_arr.shape,label_arr.shape)\n",
    "print(word_arr[1],label_arr[1])\n",
    "n_timesteps = 4\n",
    "X = word_arr.reshape(1, n_timesteps, -1)\n",
    "y = label_arr.reshape(1, n_timesteps, 7 , -1)\n",
    "\n",
    "print(X.shape,y.shape)\n",
    "\n",
    "bilstm = simple_bidirectional_lstm(n_timesteps,X.shape[-1])\n",
    "bilstm.fit(X,y, batch_size=1)\n",
    "\n",
    "test_word_lst = []\n",
    "\n",
    "with open(test_dir, \"r\", encoding=\"utf8\") as f:\n",
    "    for line in f:\n",
    "        test_word_lst.append(word)\n",
    "\n",
    "test_word_arr = np.array(test_word_lst)\n",
    "X_test = test_word_arr.reshape(1,n_timesteps,-1)\n",
    "y_pred = bilstm.predict(X_test)\n",
    "\n",
    "# print(y_pred)"
   ]
  },
  {
   "cell_type": "code",
   "execution_count": null,
   "metadata": {},
   "outputs": [],
   "source": []
  }
 ],
 "metadata": {
  "interpreter": {
   "hash": "b6812ffed06b5cffa901a574e9a3e59a1818ab1760ef7e635753d5703565f15d"
  },
  "kernelspec": {
   "display_name": "Python 3.6.10 64-bit ('money': conda)",
   "language": "python",
   "name": "python3"
  },
  "language_info": {
   "codemirror_mode": {
    "name": "ipython",
    "version": 3
   },
   "file_extension": ".py",
   "mimetype": "text/x-python",
   "name": "python",
   "nbconvert_exporter": "python",
   "pygments_lexer": "ipython3",
   "version": "3.6.9"
  },
  "orig_nbformat": 4
 },
 "nbformat": 4,
 "nbformat_minor": 2
}
