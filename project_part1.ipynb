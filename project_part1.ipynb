{
 "cells": [
  {
   "cell_type": "code",
   "execution_count": null,
   "metadata": {},
   "outputs": [],
   "source": [
    "def  MLE_emission_parameters(train_dir):\n",
    "    train_df = pd.read_csv(train_dir,sep=\"/t\",index_col=None,header=None) # Fix error of tokenization\n",
    "    train_df = train_df[0].str.split(\" \", expand=True) # Get our words and labels\n",
    "    train_df.rename(columns={0: \"word\", 1: \"label\"},inplace=True) \n",
    "    y_labels_counts = train_df['label'].value_counts()\n",
    "    y_labels_to_x_counts = pd.DataFrame(train_df.groupby(by=[\"word\",'label']).size(),index=None,columns=[\"count\"])\n",
    "    emission_df = y_labels_to_x_counts.join(other=y_labels_counts,on=\"label\")\n",
    "    emission_df['MLE'] = emission_df['count'] /emission_df['label']\n",
    "    return emission_df\n"
   ]
  },
  {
   "cell_type": "markdown",
   "metadata": {},
   "source": [
    "# Explanation of Emission Parameter"
   ]
  },
  {
   "cell_type": "code",
   "execution_count": 49,
   "metadata": {},
   "outputs": [
    {
     "name": "stdout",
     "output_type": "stream",
     "text": [
      "Train_df           word label\n",
      "0  disfrutemos     O\n",
      "1           de     O\n",
      "2          una     O\n",
      "3   buenÃ­sima     O\n",
      "4      calidad     O\n"
     ]
    },
    {
     "name": "stderr",
     "output_type": "stream",
     "text": [
      "C:\\Users\\USER\\Anaconda3\\envs\\money\\lib\\site-packages\\ipykernel_launcher.py:5: ParserWarning: Falling back to the 'python' engine because the 'c' engine does not support regex separators (separators > 1 char and different from '\\s+' are interpreted as regex); you can avoid this warning by specifying engine='python'.\n",
      "  \"\"\"\n"
     ]
    }
   ],
   "source": [
    "import pandas as pd \n",
    "\n",
    "train_dir = \"data/ES/train\"\n",
    "\n",
    "train_df = pd.read_csv(train_dir,sep=\"/t\",index_col=None,header=None) # Fix error of tokenization\n",
    "train_df = train_df[0].str.split(\" \", expand=True) # Get our words and labels\n",
    "train_df.rename(columns={0: \"word\", 1: \"label\"},inplace=True)\n",
    "print(\"Train_df\",train_df.head())\n",
    "\n"
   ]
  },
  {
   "cell_type": "code",
   "execution_count": 83,
   "metadata": {},
   "outputs": [
    {
     "name": "stdout",
     "output_type": "stream",
     "text": [
      "O             31627\n",
      "B-positive     1274\n",
      "B-negative      429\n",
      "I-positive      400\n",
      "I-negative      229\n",
      "B-neutral        85\n",
      "I-neutral        44\n",
      "Name: label, dtype: int64\n"
     ]
    }
   ],
   "source": [
    "y_labels_counts = train_df['label'].value_counts()\n",
    "print(y_labels_counts)"
   ]
  },
  {
   "cell_type": "code",
   "execution_count": 84,
   "metadata": {},
   "outputs": [
    {
     "name": "stdout",
     "output_type": "stream",
     "text": [
      "                 count\n",
      "word label            \n",
      "!    O             162\n",
      "\"    I-negative      2\n",
      "     I-positive      3\n",
      "     O              50\n",
      "%    O              13\n",
      "...                ...\n",
      "â€˜  O               1\n",
      "â€™  O               9\n",
      "â€�  I-negative      1\n",
      "     I-positive      1\n",
      "     O              34\n",
      "\n",
      "[5969 rows x 1 columns]\n"
     ]
    }
   ],
   "source": [
    "y_labels_to_x_counts = train_df.groupby(by=[\"word\",'label']).size()\n",
    "y_labels_to_x_counts = pd.DataFrame(y_labels_to_x_counts,index=None,columns=[\"count\"])\n",
    "print(y_labels_to_x_counts)"
   ]
  },
  {
   "cell_type": "code",
   "execution_count": 90,
   "metadata": {},
   "outputs": [
    {
     "name": "stdout",
     "output_type": "stream",
     "text": [
      "                 count  label\n",
      "word label                   \n",
      "!    O             162  31627\n",
      "\"    I-negative      2    229\n",
      "     I-positive      3    400\n",
      "     O              50  31627\n",
      "%    O              13  31627\n",
      "...                ...    ...\n",
      "â€˜  O               1  31627\n",
      "â€™  O               9  31627\n",
      "â€�  I-negative      1    229\n",
      "     I-positive      1    400\n",
      "     O              34  31627\n",
      "\n",
      "[5969 rows x 2 columns]\n"
     ]
    }
   ],
   "source": [
    "emission_df = y_labels_to_x_counts.join(other=y_labels_counts,on=\"label\")\n",
    "print(emission_df)"
   ]
  },
  {
   "cell_type": "code",
   "execution_count": 91,
   "metadata": {},
   "outputs": [
    {
     "data": {
      "text/html": [
       "<div>\n",
       "<style scoped>\n",
       "    .dataframe tbody tr th:only-of-type {\n",
       "        vertical-align: middle;\n",
       "    }\n",
       "\n",
       "    .dataframe tbody tr th {\n",
       "        vertical-align: top;\n",
       "    }\n",
       "\n",
       "    .dataframe thead th {\n",
       "        text-align: right;\n",
       "    }\n",
       "</style>\n",
       "<table border=\"1\" class=\"dataframe\">\n",
       "  <thead>\n",
       "    <tr style=\"text-align: right;\">\n",
       "      <th></th>\n",
       "      <th></th>\n",
       "      <th>count</th>\n",
       "      <th>label</th>\n",
       "      <th>MLE</th>\n",
       "    </tr>\n",
       "    <tr>\n",
       "      <th>word</th>\n",
       "      <th>label</th>\n",
       "      <th></th>\n",
       "      <th></th>\n",
       "      <th></th>\n",
       "    </tr>\n",
       "  </thead>\n",
       "  <tbody>\n",
       "    <tr>\n",
       "      <th>!</th>\n",
       "      <th>O</th>\n",
       "      <td>162</td>\n",
       "      <td>31627</td>\n",
       "      <td>0.005122</td>\n",
       "    </tr>\n",
       "    <tr>\n",
       "      <th rowspan=\"3\" valign=\"top\">\"</th>\n",
       "      <th>I-negative</th>\n",
       "      <td>2</td>\n",
       "      <td>229</td>\n",
       "      <td>0.008734</td>\n",
       "    </tr>\n",
       "    <tr>\n",
       "      <th>I-positive</th>\n",
       "      <td>3</td>\n",
       "      <td>400</td>\n",
       "      <td>0.007500</td>\n",
       "    </tr>\n",
       "    <tr>\n",
       "      <th>O</th>\n",
       "      <td>50</td>\n",
       "      <td>31627</td>\n",
       "      <td>0.001581</td>\n",
       "    </tr>\n",
       "    <tr>\n",
       "      <th>%</th>\n",
       "      <th>O</th>\n",
       "      <td>13</td>\n",
       "      <td>31627</td>\n",
       "      <td>0.000411</td>\n",
       "    </tr>\n",
       "    <tr>\n",
       "      <th>...</th>\n",
       "      <th>...</th>\n",
       "      <td>...</td>\n",
       "      <td>...</td>\n",
       "      <td>...</td>\n",
       "    </tr>\n",
       "    <tr>\n",
       "      <th>â€˜</th>\n",
       "      <th>O</th>\n",
       "      <td>1</td>\n",
       "      <td>31627</td>\n",
       "      <td>0.000032</td>\n",
       "    </tr>\n",
       "    <tr>\n",
       "      <th>â€™</th>\n",
       "      <th>O</th>\n",
       "      <td>9</td>\n",
       "      <td>31627</td>\n",
       "      <td>0.000285</td>\n",
       "    </tr>\n",
       "    <tr>\n",
       "      <th rowspan=\"3\" valign=\"top\">â€�</th>\n",
       "      <th>I-negative</th>\n",
       "      <td>1</td>\n",
       "      <td>229</td>\n",
       "      <td>0.004367</td>\n",
       "    </tr>\n",
       "    <tr>\n",
       "      <th>I-positive</th>\n",
       "      <td>1</td>\n",
       "      <td>400</td>\n",
       "      <td>0.002500</td>\n",
       "    </tr>\n",
       "    <tr>\n",
       "      <th>O</th>\n",
       "      <td>34</td>\n",
       "      <td>31627</td>\n",
       "      <td>0.001075</td>\n",
       "    </tr>\n",
       "  </tbody>\n",
       "</table>\n",
       "<p>5969 rows × 3 columns</p>\n",
       "</div>"
      ],
      "text/plain": [
       "                 count  label       MLE\n",
       "word label                             \n",
       "!    O             162  31627  0.005122\n",
       "\"    I-negative      2    229  0.008734\n",
       "     I-positive      3    400  0.007500\n",
       "     O              50  31627  0.001581\n",
       "%    O              13  31627  0.000411\n",
       "...                ...    ...       ...\n",
       "â€˜  O               1  31627  0.000032\n",
       "â€™  O               9  31627  0.000285\n",
       "â€�  I-negative      1    229  0.004367\n",
       "     I-positive      1    400  0.002500\n",
       "     O              34  31627  0.001075\n",
       "\n",
       "[5969 rows x 3 columns]"
      ]
     },
     "execution_count": 91,
     "metadata": {},
     "output_type": "execute_result"
    }
   ],
   "source": [
    "emission_df['MLE'] = emission_df['count'] /emission_df['label']\n",
    "emission_df"
   ]
  },
  {
   "cell_type": "code",
   "execution_count": null,
   "metadata": {},
   "outputs": [],
   "source": []
  }
 ],
 "metadata": {
  "interpreter": {
   "hash": "b6812ffed06b5cffa901a574e9a3e59a1818ab1760ef7e635753d5703565f15d"
  },
  "kernelspec": {
   "display_name": "Python 3.6.10 64-bit ('money': conda)",
   "language": "python",
   "name": "python3"
  },
  "language_info": {
   "codemirror_mode": {
    "name": "ipython",
    "version": 3
   },
   "file_extension": ".py",
   "mimetype": "text/x-python",
   "name": "python",
   "nbconvert_exporter": "python",
   "pygments_lexer": "ipython3",
   "version": "3.6.10"
  },
  "orig_nbformat": 4
 },
 "nbformat": 4,
 "nbformat_minor": 2
}
